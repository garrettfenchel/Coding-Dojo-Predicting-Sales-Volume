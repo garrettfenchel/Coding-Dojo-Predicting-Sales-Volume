{
  "nbformat": 4,
  "nbformat_minor": 0,
  "metadata": {
    "colab": {
      "name": "Project 1.ipynb",
      "provenance": [],
      "mount_file_id": "1gugpZO_rVLa3JiExydKb8uQHIVWxZPaf",
      "authorship_tag": "ABX9TyNeRLMebwgwIYpasFLuW8Mg",
      "include_colab_link": true
    },
    "kernelspec": {
      "name": "python3",
      "display_name": "Python 3"
    },
    "language_info": {
      "name": "python"
    }
  },
  "cells": [
    {
      "cell_type": "markdown",
      "metadata": {
        "id": "view-in-github",
        "colab_type": "text"
      },
      "source": [
        "<a href=\"https://colab.research.google.com/github/garrettfenchel/CodingDojoProject_1/blob/main/Project_1.ipynb\" target=\"_parent\"><img src=\"https://colab.research.google.com/assets/colab-badge.svg\" alt=\"Open In Colab\"/></a>"
      ]
    },
    {
      "cell_type": "markdown",
      "source": [
        "**Part 2 - Data Cleaning and Explorization**"
      ],
      "metadata": {
        "id": "zLWwIF2L3Oba"
      }
    },
    {
      "cell_type": "code",
      "execution_count": 1,
      "metadata": {
        "id": "_Bh4HPbX3M-9"
      },
      "outputs": [],
      "source": [
        "import pandas as pd\n",
        "import matplotlib.pyplot as plt\n",
        "import numpy as np\n",
        "import seaborn as sns\n",
        "import matplotlib.pyplot as plt\n"
      ]
    },
    {
      "cell_type": "code",
      "source": [
        "sales_original = pd.read_csv(\"/content/drive/MyDrive/Work/Unilever/Data Science/Project 1/sales_predictions.csv\")"
      ],
      "metadata": {
        "id": "Pp0H_eeN3cmc"
      },
      "execution_count": 2,
      "outputs": []
    },
    {
      "cell_type": "code",
      "source": [
        "sales_original"
      ],
      "metadata": {
        "colab": {
          "base_uri": "https://localhost:8080/",
          "height": 661
        },
        "id": "dPhigSwd3z1L",
        "outputId": "da3d6acb-e031-419b-8d58-1bb0d5b72209"
      },
      "execution_count": 3,
      "outputs": [
        {
          "output_type": "execute_result",
          "data": {
            "text/plain": [
              "     Item_Identifier  Item_Weight Item_Fat_Content  Item_Visibility  \\\n",
              "0              FDA15        9.300          Low Fat         0.016047   \n",
              "1              DRC01        5.920          Regular         0.019278   \n",
              "2              FDN15       17.500          Low Fat         0.016760   \n",
              "3              FDX07       19.200          Regular         0.000000   \n",
              "4              NCD19        8.930          Low Fat         0.000000   \n",
              "...              ...          ...              ...              ...   \n",
              "8518           FDF22        6.865          Low Fat         0.056783   \n",
              "8519           FDS36        8.380          Regular         0.046982   \n",
              "8520           NCJ29       10.600          Low Fat         0.035186   \n",
              "8521           FDN46        7.210          Regular         0.145221   \n",
              "8522           DRG01       14.800          Low Fat         0.044878   \n",
              "\n",
              "                  Item_Type  Item_MRP Outlet_Identifier  \\\n",
              "0                     Dairy  249.8092            OUT049   \n",
              "1               Soft Drinks   48.2692            OUT018   \n",
              "2                      Meat  141.6180            OUT049   \n",
              "3     Fruits and Vegetables  182.0950            OUT010   \n",
              "4                 Household   53.8614            OUT013   \n",
              "...                     ...       ...               ...   \n",
              "8518            Snack Foods  214.5218            OUT013   \n",
              "8519           Baking Goods  108.1570            OUT045   \n",
              "8520     Health and Hygiene   85.1224            OUT035   \n",
              "8521            Snack Foods  103.1332            OUT018   \n",
              "8522            Soft Drinks   75.4670            OUT046   \n",
              "\n",
              "      Outlet_Establishment_Year Outlet_Size Outlet_Location_Type  \\\n",
              "0                          1999      Medium               Tier 1   \n",
              "1                          2009      Medium               Tier 3   \n",
              "2                          1999      Medium               Tier 1   \n",
              "3                          1998         NaN               Tier 3   \n",
              "4                          1987        High               Tier 3   \n",
              "...                         ...         ...                  ...   \n",
              "8518                       1987        High               Tier 3   \n",
              "8519                       2002         NaN               Tier 2   \n",
              "8520                       2004       Small               Tier 2   \n",
              "8521                       2009      Medium               Tier 3   \n",
              "8522                       1997       Small               Tier 1   \n",
              "\n",
              "            Outlet_Type  Item_Outlet_Sales  \n",
              "0     Supermarket Type1          3735.1380  \n",
              "1     Supermarket Type2           443.4228  \n",
              "2     Supermarket Type1          2097.2700  \n",
              "3         Grocery Store           732.3800  \n",
              "4     Supermarket Type1           994.7052  \n",
              "...                 ...                ...  \n",
              "8518  Supermarket Type1          2778.3834  \n",
              "8519  Supermarket Type1           549.2850  \n",
              "8520  Supermarket Type1          1193.1136  \n",
              "8521  Supermarket Type2          1845.5976  \n",
              "8522  Supermarket Type1           765.6700  \n",
              "\n",
              "[8523 rows x 12 columns]"
            ],
            "text/html": [
              "\n",
              "  <div id=\"df-93fbcf28-8c00-4e18-a560-0c4a5ee89d1f\">\n",
              "    <div class=\"colab-df-container\">\n",
              "      <div>\n",
              "<style scoped>\n",
              "    .dataframe tbody tr th:only-of-type {\n",
              "        vertical-align: middle;\n",
              "    }\n",
              "\n",
              "    .dataframe tbody tr th {\n",
              "        vertical-align: top;\n",
              "    }\n",
              "\n",
              "    .dataframe thead th {\n",
              "        text-align: right;\n",
              "    }\n",
              "</style>\n",
              "<table border=\"1\" class=\"dataframe\">\n",
              "  <thead>\n",
              "    <tr style=\"text-align: right;\">\n",
              "      <th></th>\n",
              "      <th>Item_Identifier</th>\n",
              "      <th>Item_Weight</th>\n",
              "      <th>Item_Fat_Content</th>\n",
              "      <th>Item_Visibility</th>\n",
              "      <th>Item_Type</th>\n",
              "      <th>Item_MRP</th>\n",
              "      <th>Outlet_Identifier</th>\n",
              "      <th>Outlet_Establishment_Year</th>\n",
              "      <th>Outlet_Size</th>\n",
              "      <th>Outlet_Location_Type</th>\n",
              "      <th>Outlet_Type</th>\n",
              "      <th>Item_Outlet_Sales</th>\n",
              "    </tr>\n",
              "  </thead>\n",
              "  <tbody>\n",
              "    <tr>\n",
              "      <th>0</th>\n",
              "      <td>FDA15</td>\n",
              "      <td>9.300</td>\n",
              "      <td>Low Fat</td>\n",
              "      <td>0.016047</td>\n",
              "      <td>Dairy</td>\n",
              "      <td>249.8092</td>\n",
              "      <td>OUT049</td>\n",
              "      <td>1999</td>\n",
              "      <td>Medium</td>\n",
              "      <td>Tier 1</td>\n",
              "      <td>Supermarket Type1</td>\n",
              "      <td>3735.1380</td>\n",
              "    </tr>\n",
              "    <tr>\n",
              "      <th>1</th>\n",
              "      <td>DRC01</td>\n",
              "      <td>5.920</td>\n",
              "      <td>Regular</td>\n",
              "      <td>0.019278</td>\n",
              "      <td>Soft Drinks</td>\n",
              "      <td>48.2692</td>\n",
              "      <td>OUT018</td>\n",
              "      <td>2009</td>\n",
              "      <td>Medium</td>\n",
              "      <td>Tier 3</td>\n",
              "      <td>Supermarket Type2</td>\n",
              "      <td>443.4228</td>\n",
              "    </tr>\n",
              "    <tr>\n",
              "      <th>2</th>\n",
              "      <td>FDN15</td>\n",
              "      <td>17.500</td>\n",
              "      <td>Low Fat</td>\n",
              "      <td>0.016760</td>\n",
              "      <td>Meat</td>\n",
              "      <td>141.6180</td>\n",
              "      <td>OUT049</td>\n",
              "      <td>1999</td>\n",
              "      <td>Medium</td>\n",
              "      <td>Tier 1</td>\n",
              "      <td>Supermarket Type1</td>\n",
              "      <td>2097.2700</td>\n",
              "    </tr>\n",
              "    <tr>\n",
              "      <th>3</th>\n",
              "      <td>FDX07</td>\n",
              "      <td>19.200</td>\n",
              "      <td>Regular</td>\n",
              "      <td>0.000000</td>\n",
              "      <td>Fruits and Vegetables</td>\n",
              "      <td>182.0950</td>\n",
              "      <td>OUT010</td>\n",
              "      <td>1998</td>\n",
              "      <td>NaN</td>\n",
              "      <td>Tier 3</td>\n",
              "      <td>Grocery Store</td>\n",
              "      <td>732.3800</td>\n",
              "    </tr>\n",
              "    <tr>\n",
              "      <th>4</th>\n",
              "      <td>NCD19</td>\n",
              "      <td>8.930</td>\n",
              "      <td>Low Fat</td>\n",
              "      <td>0.000000</td>\n",
              "      <td>Household</td>\n",
              "      <td>53.8614</td>\n",
              "      <td>OUT013</td>\n",
              "      <td>1987</td>\n",
              "      <td>High</td>\n",
              "      <td>Tier 3</td>\n",
              "      <td>Supermarket Type1</td>\n",
              "      <td>994.7052</td>\n",
              "    </tr>\n",
              "    <tr>\n",
              "      <th>...</th>\n",
              "      <td>...</td>\n",
              "      <td>...</td>\n",
              "      <td>...</td>\n",
              "      <td>...</td>\n",
              "      <td>...</td>\n",
              "      <td>...</td>\n",
              "      <td>...</td>\n",
              "      <td>...</td>\n",
              "      <td>...</td>\n",
              "      <td>...</td>\n",
              "      <td>...</td>\n",
              "      <td>...</td>\n",
              "    </tr>\n",
              "    <tr>\n",
              "      <th>8518</th>\n",
              "      <td>FDF22</td>\n",
              "      <td>6.865</td>\n",
              "      <td>Low Fat</td>\n",
              "      <td>0.056783</td>\n",
              "      <td>Snack Foods</td>\n",
              "      <td>214.5218</td>\n",
              "      <td>OUT013</td>\n",
              "      <td>1987</td>\n",
              "      <td>High</td>\n",
              "      <td>Tier 3</td>\n",
              "      <td>Supermarket Type1</td>\n",
              "      <td>2778.3834</td>\n",
              "    </tr>\n",
              "    <tr>\n",
              "      <th>8519</th>\n",
              "      <td>FDS36</td>\n",
              "      <td>8.380</td>\n",
              "      <td>Regular</td>\n",
              "      <td>0.046982</td>\n",
              "      <td>Baking Goods</td>\n",
              "      <td>108.1570</td>\n",
              "      <td>OUT045</td>\n",
              "      <td>2002</td>\n",
              "      <td>NaN</td>\n",
              "      <td>Tier 2</td>\n",
              "      <td>Supermarket Type1</td>\n",
              "      <td>549.2850</td>\n",
              "    </tr>\n",
              "    <tr>\n",
              "      <th>8520</th>\n",
              "      <td>NCJ29</td>\n",
              "      <td>10.600</td>\n",
              "      <td>Low Fat</td>\n",
              "      <td>0.035186</td>\n",
              "      <td>Health and Hygiene</td>\n",
              "      <td>85.1224</td>\n",
              "      <td>OUT035</td>\n",
              "      <td>2004</td>\n",
              "      <td>Small</td>\n",
              "      <td>Tier 2</td>\n",
              "      <td>Supermarket Type1</td>\n",
              "      <td>1193.1136</td>\n",
              "    </tr>\n",
              "    <tr>\n",
              "      <th>8521</th>\n",
              "      <td>FDN46</td>\n",
              "      <td>7.210</td>\n",
              "      <td>Regular</td>\n",
              "      <td>0.145221</td>\n",
              "      <td>Snack Foods</td>\n",
              "      <td>103.1332</td>\n",
              "      <td>OUT018</td>\n",
              "      <td>2009</td>\n",
              "      <td>Medium</td>\n",
              "      <td>Tier 3</td>\n",
              "      <td>Supermarket Type2</td>\n",
              "      <td>1845.5976</td>\n",
              "    </tr>\n",
              "    <tr>\n",
              "      <th>8522</th>\n",
              "      <td>DRG01</td>\n",
              "      <td>14.800</td>\n",
              "      <td>Low Fat</td>\n",
              "      <td>0.044878</td>\n",
              "      <td>Soft Drinks</td>\n",
              "      <td>75.4670</td>\n",
              "      <td>OUT046</td>\n",
              "      <td>1997</td>\n",
              "      <td>Small</td>\n",
              "      <td>Tier 1</td>\n",
              "      <td>Supermarket Type1</td>\n",
              "      <td>765.6700</td>\n",
              "    </tr>\n",
              "  </tbody>\n",
              "</table>\n",
              "<p>8523 rows × 12 columns</p>\n",
              "</div>\n",
              "      <button class=\"colab-df-convert\" onclick=\"convertToInteractive('df-93fbcf28-8c00-4e18-a560-0c4a5ee89d1f')\"\n",
              "              title=\"Convert this dataframe to an interactive table.\"\n",
              "              style=\"display:none;\">\n",
              "        \n",
              "  <svg xmlns=\"http://www.w3.org/2000/svg\" height=\"24px\"viewBox=\"0 0 24 24\"\n",
              "       width=\"24px\">\n",
              "    <path d=\"M0 0h24v24H0V0z\" fill=\"none\"/>\n",
              "    <path d=\"M18.56 5.44l.94 2.06.94-2.06 2.06-.94-2.06-.94-.94-2.06-.94 2.06-2.06.94zm-11 1L8.5 8.5l.94-2.06 2.06-.94-2.06-.94L8.5 2.5l-.94 2.06-2.06.94zm10 10l.94 2.06.94-2.06 2.06-.94-2.06-.94-.94-2.06-.94 2.06-2.06.94z\"/><path d=\"M17.41 7.96l-1.37-1.37c-.4-.4-.92-.59-1.43-.59-.52 0-1.04.2-1.43.59L10.3 9.45l-7.72 7.72c-.78.78-.78 2.05 0 2.83L4 21.41c.39.39.9.59 1.41.59.51 0 1.02-.2 1.41-.59l7.78-7.78 2.81-2.81c.8-.78.8-2.07 0-2.86zM5.41 20L4 18.59l7.72-7.72 1.47 1.35L5.41 20z\"/>\n",
              "  </svg>\n",
              "      </button>\n",
              "      \n",
              "  <style>\n",
              "    .colab-df-container {\n",
              "      display:flex;\n",
              "      flex-wrap:wrap;\n",
              "      gap: 12px;\n",
              "    }\n",
              "\n",
              "    .colab-df-convert {\n",
              "      background-color: #E8F0FE;\n",
              "      border: none;\n",
              "      border-radius: 50%;\n",
              "      cursor: pointer;\n",
              "      display: none;\n",
              "      fill: #1967D2;\n",
              "      height: 32px;\n",
              "      padding: 0 0 0 0;\n",
              "      width: 32px;\n",
              "    }\n",
              "\n",
              "    .colab-df-convert:hover {\n",
              "      background-color: #E2EBFA;\n",
              "      box-shadow: 0px 1px 2px rgba(60, 64, 67, 0.3), 0px 1px 3px 1px rgba(60, 64, 67, 0.15);\n",
              "      fill: #174EA6;\n",
              "    }\n",
              "\n",
              "    [theme=dark] .colab-df-convert {\n",
              "      background-color: #3B4455;\n",
              "      fill: #D2E3FC;\n",
              "    }\n",
              "\n",
              "    [theme=dark] .colab-df-convert:hover {\n",
              "      background-color: #434B5C;\n",
              "      box-shadow: 0px 1px 3px 1px rgba(0, 0, 0, 0.15);\n",
              "      filter: drop-shadow(0px 1px 2px rgba(0, 0, 0, 0.3));\n",
              "      fill: #FFFFFF;\n",
              "    }\n",
              "  </style>\n",
              "\n",
              "      <script>\n",
              "        const buttonEl =\n",
              "          document.querySelector('#df-93fbcf28-8c00-4e18-a560-0c4a5ee89d1f button.colab-df-convert');\n",
              "        buttonEl.style.display =\n",
              "          google.colab.kernel.accessAllowed ? 'block' : 'none';\n",
              "\n",
              "        async function convertToInteractive(key) {\n",
              "          const element = document.querySelector('#df-93fbcf28-8c00-4e18-a560-0c4a5ee89d1f');\n",
              "          const dataTable =\n",
              "            await google.colab.kernel.invokeFunction('convertToInteractive',\n",
              "                                                     [key], {});\n",
              "          if (!dataTable) return;\n",
              "\n",
              "          const docLinkHtml = 'Like what you see? Visit the ' +\n",
              "            '<a target=\"_blank\" href=https://colab.research.google.com/notebooks/data_table.ipynb>data table notebook</a>'\n",
              "            + ' to learn more about interactive tables.';\n",
              "          element.innerHTML = '';\n",
              "          dataTable['output_type'] = 'display_data';\n",
              "          await google.colab.output.renderOutput(dataTable, element);\n",
              "          const docLink = document.createElement('div');\n",
              "          docLink.innerHTML = docLinkHtml;\n",
              "          element.appendChild(docLink);\n",
              "        }\n",
              "      </script>\n",
              "    </div>\n",
              "  </div>\n",
              "  "
            ]
          },
          "metadata": {},
          "execution_count": 3
        }
      ]
    },
    {
      "cell_type": "markdown",
      "source": [
        "**DATA EXPLORATION**"
      ],
      "metadata": {
        "id": "vo399BjjI3QB"
      }
    },
    {
      "cell_type": "code",
      "source": [
        "#Finding Nulls\n",
        "sales_original.info()"
      ],
      "metadata": {
        "colab": {
          "base_uri": "https://localhost:8080/"
        },
        "id": "gnemDC3s3s2L",
        "outputId": "a4b82b8b-583f-478a-9de6-cfd66e3795ee"
      },
      "execution_count": 4,
      "outputs": [
        {
          "output_type": "stream",
          "name": "stdout",
          "text": [
            "<class 'pandas.core.frame.DataFrame'>\n",
            "RangeIndex: 8523 entries, 0 to 8522\n",
            "Data columns (total 12 columns):\n",
            " #   Column                     Non-Null Count  Dtype  \n",
            "---  ------                     --------------  -----  \n",
            " 0   Item_Identifier            8523 non-null   object \n",
            " 1   Item_Weight                7060 non-null   float64\n",
            " 2   Item_Fat_Content           8523 non-null   object \n",
            " 3   Item_Visibility            8523 non-null   float64\n",
            " 4   Item_Type                  8523 non-null   object \n",
            " 5   Item_MRP                   8523 non-null   float64\n",
            " 6   Outlet_Identifier          8523 non-null   object \n",
            " 7   Outlet_Establishment_Year  8523 non-null   int64  \n",
            " 8   Outlet_Size                6113 non-null   object \n",
            " 9   Outlet_Location_Type       8523 non-null   object \n",
            " 10  Outlet_Type                8523 non-null   object \n",
            " 11  Item_Outlet_Sales          8523 non-null   float64\n",
            "dtypes: float64(4), int64(1), object(7)\n",
            "memory usage: 799.2+ KB\n"
          ]
        }
      ]
    },
    {
      "cell_type": "code",
      "source": [
        "#Viewing Averages\n",
        "sales_original.describe()"
      ],
      "metadata": {
        "colab": {
          "base_uri": "https://localhost:8080/",
          "height": 300
        },
        "id": "4Nt6LxKD3vyM",
        "outputId": "05eceef3-bec1-4057-e68a-971d16f17706"
      },
      "execution_count": 5,
      "outputs": [
        {
          "output_type": "execute_result",
          "data": {
            "text/plain": [
              "       Item_Weight  Item_Visibility     Item_MRP  Outlet_Establishment_Year  \\\n",
              "count  7060.000000      8523.000000  8523.000000                8523.000000   \n",
              "mean     12.857645         0.066132   140.992782                1997.831867   \n",
              "std       4.643456         0.051598    62.275067                   8.371760   \n",
              "min       4.555000         0.000000    31.290000                1985.000000   \n",
              "25%       8.773750         0.026989    93.826500                1987.000000   \n",
              "50%      12.600000         0.053931   143.012800                1999.000000   \n",
              "75%      16.850000         0.094585   185.643700                2004.000000   \n",
              "max      21.350000         0.328391   266.888400                2009.000000   \n",
              "\n",
              "       Item_Outlet_Sales  \n",
              "count        8523.000000  \n",
              "mean         2181.288914  \n",
              "std          1706.499616  \n",
              "min            33.290000  \n",
              "25%           834.247400  \n",
              "50%          1794.331000  \n",
              "75%          3101.296400  \n",
              "max         13086.964800  "
            ],
            "text/html": [
              "\n",
              "  <div id=\"df-9dd490f8-9456-47d5-9db1-b28d99d73cc1\">\n",
              "    <div class=\"colab-df-container\">\n",
              "      <div>\n",
              "<style scoped>\n",
              "    .dataframe tbody tr th:only-of-type {\n",
              "        vertical-align: middle;\n",
              "    }\n",
              "\n",
              "    .dataframe tbody tr th {\n",
              "        vertical-align: top;\n",
              "    }\n",
              "\n",
              "    .dataframe thead th {\n",
              "        text-align: right;\n",
              "    }\n",
              "</style>\n",
              "<table border=\"1\" class=\"dataframe\">\n",
              "  <thead>\n",
              "    <tr style=\"text-align: right;\">\n",
              "      <th></th>\n",
              "      <th>Item_Weight</th>\n",
              "      <th>Item_Visibility</th>\n",
              "      <th>Item_MRP</th>\n",
              "      <th>Outlet_Establishment_Year</th>\n",
              "      <th>Item_Outlet_Sales</th>\n",
              "    </tr>\n",
              "  </thead>\n",
              "  <tbody>\n",
              "    <tr>\n",
              "      <th>count</th>\n",
              "      <td>7060.000000</td>\n",
              "      <td>8523.000000</td>\n",
              "      <td>8523.000000</td>\n",
              "      <td>8523.000000</td>\n",
              "      <td>8523.000000</td>\n",
              "    </tr>\n",
              "    <tr>\n",
              "      <th>mean</th>\n",
              "      <td>12.857645</td>\n",
              "      <td>0.066132</td>\n",
              "      <td>140.992782</td>\n",
              "      <td>1997.831867</td>\n",
              "      <td>2181.288914</td>\n",
              "    </tr>\n",
              "    <tr>\n",
              "      <th>std</th>\n",
              "      <td>4.643456</td>\n",
              "      <td>0.051598</td>\n",
              "      <td>62.275067</td>\n",
              "      <td>8.371760</td>\n",
              "      <td>1706.499616</td>\n",
              "    </tr>\n",
              "    <tr>\n",
              "      <th>min</th>\n",
              "      <td>4.555000</td>\n",
              "      <td>0.000000</td>\n",
              "      <td>31.290000</td>\n",
              "      <td>1985.000000</td>\n",
              "      <td>33.290000</td>\n",
              "    </tr>\n",
              "    <tr>\n",
              "      <th>25%</th>\n",
              "      <td>8.773750</td>\n",
              "      <td>0.026989</td>\n",
              "      <td>93.826500</td>\n",
              "      <td>1987.000000</td>\n",
              "      <td>834.247400</td>\n",
              "    </tr>\n",
              "    <tr>\n",
              "      <th>50%</th>\n",
              "      <td>12.600000</td>\n",
              "      <td>0.053931</td>\n",
              "      <td>143.012800</td>\n",
              "      <td>1999.000000</td>\n",
              "      <td>1794.331000</td>\n",
              "    </tr>\n",
              "    <tr>\n",
              "      <th>75%</th>\n",
              "      <td>16.850000</td>\n",
              "      <td>0.094585</td>\n",
              "      <td>185.643700</td>\n",
              "      <td>2004.000000</td>\n",
              "      <td>3101.296400</td>\n",
              "    </tr>\n",
              "    <tr>\n",
              "      <th>max</th>\n",
              "      <td>21.350000</td>\n",
              "      <td>0.328391</td>\n",
              "      <td>266.888400</td>\n",
              "      <td>2009.000000</td>\n",
              "      <td>13086.964800</td>\n",
              "    </tr>\n",
              "  </tbody>\n",
              "</table>\n",
              "</div>\n",
              "      <button class=\"colab-df-convert\" onclick=\"convertToInteractive('df-9dd490f8-9456-47d5-9db1-b28d99d73cc1')\"\n",
              "              title=\"Convert this dataframe to an interactive table.\"\n",
              "              style=\"display:none;\">\n",
              "        \n",
              "  <svg xmlns=\"http://www.w3.org/2000/svg\" height=\"24px\"viewBox=\"0 0 24 24\"\n",
              "       width=\"24px\">\n",
              "    <path d=\"M0 0h24v24H0V0z\" fill=\"none\"/>\n",
              "    <path d=\"M18.56 5.44l.94 2.06.94-2.06 2.06-.94-2.06-.94-.94-2.06-.94 2.06-2.06.94zm-11 1L8.5 8.5l.94-2.06 2.06-.94-2.06-.94L8.5 2.5l-.94 2.06-2.06.94zm10 10l.94 2.06.94-2.06 2.06-.94-2.06-.94-.94-2.06-.94 2.06-2.06.94z\"/><path d=\"M17.41 7.96l-1.37-1.37c-.4-.4-.92-.59-1.43-.59-.52 0-1.04.2-1.43.59L10.3 9.45l-7.72 7.72c-.78.78-.78 2.05 0 2.83L4 21.41c.39.39.9.59 1.41.59.51 0 1.02-.2 1.41-.59l7.78-7.78 2.81-2.81c.8-.78.8-2.07 0-2.86zM5.41 20L4 18.59l7.72-7.72 1.47 1.35L5.41 20z\"/>\n",
              "  </svg>\n",
              "      </button>\n",
              "      \n",
              "  <style>\n",
              "    .colab-df-container {\n",
              "      display:flex;\n",
              "      flex-wrap:wrap;\n",
              "      gap: 12px;\n",
              "    }\n",
              "\n",
              "    .colab-df-convert {\n",
              "      background-color: #E8F0FE;\n",
              "      border: none;\n",
              "      border-radius: 50%;\n",
              "      cursor: pointer;\n",
              "      display: none;\n",
              "      fill: #1967D2;\n",
              "      height: 32px;\n",
              "      padding: 0 0 0 0;\n",
              "      width: 32px;\n",
              "    }\n",
              "\n",
              "    .colab-df-convert:hover {\n",
              "      background-color: #E2EBFA;\n",
              "      box-shadow: 0px 1px 2px rgba(60, 64, 67, 0.3), 0px 1px 3px 1px rgba(60, 64, 67, 0.15);\n",
              "      fill: #174EA6;\n",
              "    }\n",
              "\n",
              "    [theme=dark] .colab-df-convert {\n",
              "      background-color: #3B4455;\n",
              "      fill: #D2E3FC;\n",
              "    }\n",
              "\n",
              "    [theme=dark] .colab-df-convert:hover {\n",
              "      background-color: #434B5C;\n",
              "      box-shadow: 0px 1px 3px 1px rgba(0, 0, 0, 0.15);\n",
              "      filter: drop-shadow(0px 1px 2px rgba(0, 0, 0, 0.3));\n",
              "      fill: #FFFFFF;\n",
              "    }\n",
              "  </style>\n",
              "\n",
              "      <script>\n",
              "        const buttonEl =\n",
              "          document.querySelector('#df-9dd490f8-9456-47d5-9db1-b28d99d73cc1 button.colab-df-convert');\n",
              "        buttonEl.style.display =\n",
              "          google.colab.kernel.accessAllowed ? 'block' : 'none';\n",
              "\n",
              "        async function convertToInteractive(key) {\n",
              "          const element = document.querySelector('#df-9dd490f8-9456-47d5-9db1-b28d99d73cc1');\n",
              "          const dataTable =\n",
              "            await google.colab.kernel.invokeFunction('convertToInteractive',\n",
              "                                                     [key], {});\n",
              "          if (!dataTable) return;\n",
              "\n",
              "          const docLinkHtml = 'Like what you see? Visit the ' +\n",
              "            '<a target=\"_blank\" href=https://colab.research.google.com/notebooks/data_table.ipynb>data table notebook</a>'\n",
              "            + ' to learn more about interactive tables.';\n",
              "          element.innerHTML = '';\n",
              "          dataTable['output_type'] = 'display_data';\n",
              "          await google.colab.output.renderOutput(dataTable, element);\n",
              "          const docLink = document.createElement('div');\n",
              "          docLink.innerHTML = docLinkHtml;\n",
              "          element.appendChild(docLink);\n",
              "        }\n",
              "      </script>\n",
              "    </div>\n",
              "  </div>\n",
              "  "
            ]
          },
          "metadata": {},
          "execution_count": 5
        }
      ]
    },
    {
      "cell_type": "code",
      "source": [
        "#Viewing How many Outlets\n",
        "sales_original.value_counts([\"Outlet_Identifier\"])\n"
      ],
      "metadata": {
        "colab": {
          "base_uri": "https://localhost:8080/"
        },
        "id": "_rG3V2eO4hgv",
        "outputId": "b7bc1374-a8dc-489b-b0e1-6fe0cb748cb2"
      },
      "execution_count": 6,
      "outputs": [
        {
          "output_type": "execute_result",
          "data": {
            "text/plain": [
              "Outlet_Identifier\n",
              "OUT027               935\n",
              "OUT013               932\n",
              "OUT035               930\n",
              "OUT046               930\n",
              "OUT049               930\n",
              "OUT045               929\n",
              "OUT018               928\n",
              "OUT017               926\n",
              "OUT010               555\n",
              "OUT019               528\n",
              "dtype: int64"
            ]
          },
          "metadata": {},
          "execution_count": 6
        }
      ]
    },
    {
      "cell_type": "code",
      "source": [
        "#Checking if all values for Outlet Size are null for each Outlet ID, they are so we can't fill Outlet Size based on Outlet ID\n",
        "sales_filled = sales_original\n",
        "sales_filled[\"Outlet_Size\"] = sales_filled[\"Outlet_Size\"].fillna(\"NO DATA\")\n",
        "sales_filled.groupby([\"Outlet_Identifier\",\"Outlet_Size\"])[\"Item_Identifier\"].count()\n"
      ],
      "metadata": {
        "colab": {
          "base_uri": "https://localhost:8080/"
        },
        "id": "xEwz-SuY5chR",
        "outputId": "65abea36-3377-4bc9-d26c-fcaccf2c21f5"
      },
      "execution_count": 7,
      "outputs": [
        {
          "output_type": "execute_result",
          "data": {
            "text/plain": [
              "Outlet_Identifier  Outlet_Size\n",
              "OUT010             NO DATA        555\n",
              "OUT013             High           932\n",
              "OUT017             NO DATA        926\n",
              "OUT018             Medium         928\n",
              "OUT019             Small          528\n",
              "OUT027             Medium         935\n",
              "OUT035             Small          930\n",
              "OUT045             NO DATA        929\n",
              "OUT046             Small          930\n",
              "OUT049             Medium         930\n",
              "Name: Item_Identifier, dtype: int64"
            ]
          },
          "metadata": {},
          "execution_count": 7
        }
      ]
    },
    {
      "cell_type": "code",
      "source": [
        "#Seeing if there is a relationship between Tier and Outlet Size, nothing definitive \n",
        "sales_filled.groupby([\"Outlet_Location_Type\",\"Outlet_Size\"])[\"Item_Identifier\"].count()"
      ],
      "metadata": {
        "colab": {
          "base_uri": "https://localhost:8080/"
        },
        "id": "hYKJr4Tj7MGF",
        "outputId": "cd2b373c-2948-44ae-915f-690059ef4f46"
      },
      "execution_count": 8,
      "outputs": [
        {
          "output_type": "execute_result",
          "data": {
            "text/plain": [
              "Outlet_Location_Type  Outlet_Size\n",
              "Tier 1                Medium          930\n",
              "                      Small          1458\n",
              "Tier 2                NO DATA        1855\n",
              "                      Small           930\n",
              "Tier 3                High            932\n",
              "                      Medium         1863\n",
              "                      NO DATA         555\n",
              "Name: Item_Identifier, dtype: int64"
            ]
          },
          "metadata": {},
          "execution_count": 8
        }
      ]
    },
    {
      "cell_type": "code",
      "source": [
        "#Seeing if there is a relationship between Outlet Type and Outlet Size, maybe all Grocery Stores are small, but not sure on Supermarket Type 1. Not definitive enough to assume\n",
        "sales_filled.groupby([\"Outlet_Location_Type\",\"Outlet_Type\",\"Outlet_Size\"])[\"Item_Identifier\"].count()"
      ],
      "metadata": {
        "colab": {
          "base_uri": "https://localhost:8080/"
        },
        "id": "iJ0xHd657y44",
        "outputId": "923d9f92-d40b-450d-c58f-1b55c41ea7e8"
      },
      "execution_count": 9,
      "outputs": [
        {
          "output_type": "execute_result",
          "data": {
            "text/plain": [
              "Outlet_Location_Type  Outlet_Type        Outlet_Size\n",
              "Tier 1                Grocery Store      Small           528\n",
              "                      Supermarket Type1  Medium          930\n",
              "                                         Small           930\n",
              "Tier 2                Supermarket Type1  NO DATA        1855\n",
              "                                         Small           930\n",
              "Tier 3                Grocery Store      NO DATA         555\n",
              "                      Supermarket Type1  High            932\n",
              "                      Supermarket Type2  Medium          928\n",
              "                      Supermarket Type3  Medium          935\n",
              "Name: Item_Identifier, dtype: int64"
            ]
          },
          "metadata": {},
          "execution_count": 9
        }
      ]
    },
    {
      "cell_type": "code",
      "source": [
        "#Seeing if total sales can be used to assume size, nothing definitive \n",
        "sales_filled.groupby([\"Outlet_Location_Type\",\"Outlet_Type\",\"Outlet_Size\",\"Outlet_Identifier\"])[\"Item_Outlet_Sales\"].sum()"
      ],
      "metadata": {
        "colab": {
          "base_uri": "https://localhost:8080/"
        },
        "id": "eO8X3Cgw8cW1",
        "outputId": "b93e9b23-27e7-47f8-927d-abfda5b38a95"
      },
      "execution_count": 10,
      "outputs": [
        {
          "output_type": "execute_result",
          "data": {
            "text/plain": [
              "Outlet_Location_Type  Outlet_Type        Outlet_Size  Outlet_Identifier\n",
              "Tier 1                Grocery Store      Small        OUT019               1.796941e+05\n",
              "                      Supermarket Type1  Medium       OUT049               2.183970e+06\n",
              "                                         Small        OUT046               2.118395e+06\n",
              "Tier 2                Supermarket Type1  NO DATA      OUT017               2.167465e+06\n",
              "                                                      OUT045               2.036725e+06\n",
              "                                         Small        OUT035               2.268123e+06\n",
              "Tier 3                Grocery Store      NO DATA      OUT010               1.883402e+05\n",
              "                      Supermarket Type1  High         OUT013               2.142664e+06\n",
              "                      Supermarket Type2  Medium       OUT018               1.851823e+06\n",
              "                      Supermarket Type3  Medium       OUT027               3.453926e+06\n",
              "Name: Item_Outlet_Sales, dtype: float64"
            ]
          },
          "metadata": {},
          "execution_count": 10
        }
      ]
    },
    {
      "cell_type": "code",
      "source": [
        "#Checking if can fill Item Weight based on Item ID, we can\n",
        "sales_filled[\"Item_Weight\"] = sales_filled[\"Item_Weight\"].fillna(\"NO DATA\")\n",
        "sales_filled.groupby([\"Item_Identifier\",\"Item_Weight\"])[\"Item_Identifier\"].count()\n"
      ],
      "metadata": {
        "colab": {
          "base_uri": "https://localhost:8080/"
        },
        "id": "14Injp0u-j4X",
        "outputId": "2e7a1020-c771-420a-d348-5f84f42d7094"
      },
      "execution_count": 11,
      "outputs": [
        {
          "output_type": "execute_result",
          "data": {
            "text/plain": [
              "Item_Identifier  Item_Weight\n",
              "DRA12            11.6           6\n",
              "DRA24            19.35          5\n",
              "                 NO DATA        2\n",
              "DRA59            8.27           6\n",
              "                 NO DATA        2\n",
              "                               ..\n",
              "NCZ42            10.5           5\n",
              "NCZ53            9.6            4\n",
              "                 NO DATA        1\n",
              "NCZ54            14.65          5\n",
              "                 NO DATA        2\n",
              "Name: Item_Identifier, Length: 2697, dtype: int64"
            ]
          },
          "metadata": {},
          "execution_count": 11
        }
      ]
    },
    {
      "cell_type": "code",
      "source": [
        "#Item visibility at 0, shouldn't be 0\n",
        "sales_filled[sales_filled[\"Item_Visibility\"] == 0]\n",
        "sales_filled.groupby([\"Outlet_Identifier\"])[\"Item_Visibility\"].min()\n",
        "sales_filled.groupby([\"Item_Identifier\"])[\"Item_Visibility\"].min()\n",
        "\n"
      ],
      "metadata": {
        "colab": {
          "base_uri": "https://localhost:8080/"
        },
        "id": "m32zy5gsBpSy",
        "outputId": "5c35602f-5960-4611-9994-9c04be48540d"
      },
      "execution_count": 12,
      "outputs": [
        {
          "output_type": "execute_result",
          "data": {
            "text/plain": [
              "Item_Identifier\n",
              "DRA12    0.000000\n",
              "DRA24    0.039735\n",
              "DRA59    0.000000\n",
              "DRB01    0.081841\n",
              "DRB13    0.007038\n",
              "           ...   \n",
              "NCZ30    0.000000\n",
              "NCZ41    0.000000\n",
              "NCZ42    0.000000\n",
              "NCZ53    0.024359\n",
              "NCZ54    0.000000\n",
              "Name: Item_Visibility, Length: 1559, dtype: float64"
            ]
          },
          "metadata": {},
          "execution_count": 12
        }
      ]
    },
    {
      "cell_type": "code",
      "source": [
        "sales_filled.groupby([\"Item_Type\",\"Outlet_Location_Type\"])[\"Item_MRP\"].mean()"
      ],
      "metadata": {
        "id": "fDQ5-7NyJMvm",
        "colab": {
          "base_uri": "https://localhost:8080/"
        },
        "outputId": "99831d79-622e-4b1a-a35d-e9f87e619d87"
      },
      "execution_count": 13,
      "outputs": [
        {
          "output_type": "execute_result",
          "data": {
            "text/plain": [
              "Item_Type              Outlet_Location_Type\n",
              "Baking Goods           Tier 1                  124.389121\n",
              "                       Tier 2                  126.258343\n",
              "                       Tier 3                  127.945391\n",
              "Breads                 Tier 1                  146.045788\n",
              "                       Tier 2                  137.639740\n",
              "                       Tier 3                  140.323138\n",
              "Breakfast              Tier 1                  125.774400\n",
              "                       Tier 2                  151.478131\n",
              "                       Tier 3                  146.640916\n",
              "Canned                 Tier 1                  138.696381\n",
              "                       Tier 2                  143.355646\n",
              "                       Tier 3                  137.330057\n",
              "Dairy                  Tier 1                  145.929290\n",
              "                       Tier 2                  148.667932\n",
              "                       Tier 3                  150.365087\n",
              "Frozen Foods           Tier 1                  136.504640\n",
              "                       Tier 2                  139.873045\n",
              "                       Tier 3                  138.862819\n",
              "Fruits and Vegetables  Tier 1                  148.741817\n",
              "                       Tier 2                  143.529772\n",
              "                       Tier 3                  142.600221\n",
              "Hard Drinks            Tier 1                  126.267555\n",
              "                       Tier 2                  136.023644\n",
              "                       Tier 3                  145.445905\n",
              "Health and Hygiene     Tier 1                  131.879567\n",
              "                       Tier 2                  130.002942\n",
              "                       Tier 3                  130.768381\n",
              "Household              Tier 1                  150.534495\n",
              "                       Tier 2                  150.739074\n",
              "                       Tier 3                  147.593780\n",
              "Meat                   Tier 1                  138.377475\n",
              "                       Tier 2                  143.833074\n",
              "                       Tier 3                  138.137289\n",
              "Others                 Tier 1                  139.947136\n",
              "                       Tier 2                  136.423408\n",
              "                       Tier 3                  123.292374\n",
              "Seafood                Tier 1                  150.890758\n",
              "                       Tier 2                  134.199373\n",
              "                       Tier 3                  141.676496\n",
              "Snack Foods            Tier 1                  146.145581\n",
              "                       Tier 2                  144.465599\n",
              "                       Tier 3                  147.721702\n",
              "Soft Drinks            Tier 1                  130.170610\n",
              "                       Tier 2                  131.183404\n",
              "                       Tier 3                  132.725580\n",
              "Starchy Foods          Tier 1                  150.535350\n",
              "                       Tier 2                  143.834894\n",
              "                       Tier 3                  149.788227\n",
              "Name: Item_MRP, dtype: float64"
            ]
          },
          "metadata": {},
          "execution_count": 13
        }
      ]
    },
    {
      "cell_type": "markdown",
      "source": [
        "**CLEAN CODE**"
      ],
      "metadata": {
        "id": "X1SlRs6gBoB2"
      }
    },
    {
      "cell_type": "code",
      "source": [
        "sales_original = pd.read_csv(\"/content/drive/MyDrive/Work/Unilever/Data Science/Project 1/sales_predictions.csv\")\n",
        "sales_clean = sales_original"
      ],
      "metadata": {
        "id": "KympZQf0CvLe"
      },
      "execution_count": 14,
      "outputs": []
    },
    {
      "cell_type": "code",
      "source": [
        "#Replacing NULLS for Item Weight based on Item ID \n",
        "#Not replacing Oulet Size, there is no accurate way of predicting size...also don't think it will help towards price prediction knowing squarefootage of store size\n",
        "\n",
        "sales_clean = sales_clean.sort_values(by=[\"Item_Identifier\",\"Item_Weight\"])\n",
        "sales_clean[\"Item_Weight\"] = sales_clean[\"Item_Weight\"].fillna(method=\"ffill\")\n",
        "sales_clean.info()\n",
        "sales_clean.groupby([\"Item_Identifier\",\"Item_Weight\"])[\"Item_Identifier\"].count()\n"
      ],
      "metadata": {
        "colab": {
          "base_uri": "https://localhost:8080/"
        },
        "id": "Ryt2o6NxArXp",
        "outputId": "e9d4cead-74f1-4705-9379-250c5b02687f"
      },
      "execution_count": 15,
      "outputs": [
        {
          "output_type": "stream",
          "name": "stdout",
          "text": [
            "<class 'pandas.core.frame.DataFrame'>\n",
            "Int64Index: 8523 entries, 118 to 7166\n",
            "Data columns (total 12 columns):\n",
            " #   Column                     Non-Null Count  Dtype  \n",
            "---  ------                     --------------  -----  \n",
            " 0   Item_Identifier            8523 non-null   object \n",
            " 1   Item_Weight                8523 non-null   float64\n",
            " 2   Item_Fat_Content           8523 non-null   object \n",
            " 3   Item_Visibility            8523 non-null   float64\n",
            " 4   Item_Type                  8523 non-null   object \n",
            " 5   Item_MRP                   8523 non-null   float64\n",
            " 6   Outlet_Identifier          8523 non-null   object \n",
            " 7   Outlet_Establishment_Year  8523 non-null   int64  \n",
            " 8   Outlet_Size                6113 non-null   object \n",
            " 9   Outlet_Location_Type       8523 non-null   object \n",
            " 10  Outlet_Type                8523 non-null   object \n",
            " 11  Item_Outlet_Sales          8523 non-null   float64\n",
            "dtypes: float64(4), int64(1), object(7)\n",
            "memory usage: 865.6+ KB\n"
          ]
        },
        {
          "output_type": "execute_result",
          "data": {
            "text/plain": [
              "Item_Identifier  Item_Weight\n",
              "DRA12            11.600         6\n",
              "DRA24            19.350         7\n",
              "DRA59            8.270          8\n",
              "DRB01            7.390          3\n",
              "DRB13            6.115          5\n",
              "                               ..\n",
              "NCZ30            6.590          7\n",
              "NCZ41            19.850         5\n",
              "NCZ42            10.500         5\n",
              "NCZ53            9.600          5\n",
              "NCZ54            14.650         7\n",
              "Name: Item_Identifier, Length: 1559, dtype: int64"
            ]
          },
          "metadata": {},
          "execution_count": 15
        }
      ]
    },
    {
      "cell_type": "code",
      "source": [
        "#Replacing Fat Content Values\n",
        "sales_clean['Item_Fat_Content'] = sales_clean['Item_Fat_Content'].replace(['LF'],'Low Fat')\n",
        "sales_clean['Item_Fat_Content'] = sales_clean['Item_Fat_Content'].replace(['low fat'],'Low Fat')\n",
        "sales_clean['Item_Fat_Content'] = sales_clean['Item_Fat_Content'].replace(['reg'],'Regular')"
      ],
      "metadata": {
        "id": "-jFJcFIDFsYQ"
      },
      "execution_count": 16,
      "outputs": []
    },
    {
      "cell_type": "markdown",
      "source": [
        "**GROUPING AND AVERAGING**"
      ],
      "metadata": {
        "id": "UQnVubXbIyEv"
      }
    },
    {
      "cell_type": "code",
      "source": [
        "#Average Price of Types of Items \n",
        "\n",
        "sales_group = sales_clean.groupby([\"Item_Type\"])[\"Item_MRP\"].mean()\n",
        "sales_group.sort_values()\n",
        "\n",
        "#sales_clean.sort_values(by=[\"Item_Identifier\",\"Item_Weight\"])"
      ],
      "metadata": {
        "colab": {
          "base_uri": "https://localhost:8080/"
        },
        "id": "RF-0ye70--mp",
        "outputId": "f84848e3-dd43-4b9a-efbd-8154785b4fb6"
      },
      "execution_count": 17,
      "outputs": [
        {
          "output_type": "execute_result",
          "data": {
            "text/plain": [
              "Item_Type\n",
              "Baking Goods             126.380766\n",
              "Health and Hygiene       130.818921\n",
              "Soft Drinks              131.492506\n",
              "Others                   132.851430\n",
              "Hard Drinks              137.077928\n",
              "Frozen Foods             138.503366\n",
              "Canned                   139.763832\n",
              "Meat                     139.882032\n",
              "Breads                   140.952669\n",
              "Breakfast                141.788151\n",
              "Seafood                  141.841719\n",
              "Fruits and Vegetables    144.581235\n",
              "Snack Foods              146.194934\n",
              "Starchy Foods            147.838023\n",
              "Dairy                    148.499208\n",
              "Household                149.424753\n",
              "Name: Item_MRP, dtype: float64"
            ]
          },
          "metadata": {},
          "execution_count": 17
        }
      ]
    },
    {
      "cell_type": "code",
      "source": [
        "sales_clean.groupby([\"Item_Type\",\"Outlet_Size\"])[\"Item_MRP\"].mean()"
      ],
      "metadata": {
        "colab": {
          "base_uri": "https://localhost:8080/"
        },
        "id": "JJlCzeK3DGqV",
        "outputId": "6f0d084b-1ed9-4059-acf4-992154f32e7d"
      },
      "execution_count": 18,
      "outputs": [
        {
          "output_type": "execute_result",
          "data": {
            "text/plain": [
              "Item_Type              Outlet_Size\n",
              "Baking Goods           High           129.202044\n",
              "                       Medium         126.178568\n",
              "                       Small          125.213364\n",
              "Breads                 High           133.758960\n",
              "                       Medium         140.861039\n",
              "                       Small          145.523651\n",
              "Breakfast              High           147.490585\n",
              "                       Medium         134.537511\n",
              "                       Small          130.568027\n",
              "Canned                 High           135.442708\n",
              "                       Medium         138.124851\n",
              "                       Small          142.295429\n",
              "Dairy                  High           153.509173\n",
              "                       Medium         148.512174\n",
              "                       Small          145.942101\n",
              "Frozen Foods           High           136.829250\n",
              "                       Medium         140.557015\n",
              "                       Small          137.838544\n",
              "Fruits and Vegetables  High           145.572870\n",
              "                       Medium         142.971470\n",
              "                       Small          148.313370\n",
              "Hard Drinks            High           141.927522\n",
              "                       Medium         142.837696\n",
              "                       Small          129.758784\n",
              "Health and Hygiene     High           135.110980\n",
              "                       Medium         128.701865\n",
              "                       Small          131.831535\n",
              "Household              High           147.097522\n",
              "                       Medium         147.711330\n",
              "                       Small          153.965439\n",
              "Meat                   High           137.244790\n",
              "                       Medium         136.419132\n",
              "                       Small          145.699250\n",
              "Others                 High           132.576613\n",
              "                       Medium         127.836181\n",
              "                       Small          137.889211\n",
              "Seafood                High           134.864240\n",
              "                       Medium         140.857619\n",
              "                       Small          144.281760\n",
              "Snack Foods            High           145.847086\n",
              "                       Medium         148.779195\n",
              "                       Small          144.351896\n",
              "Soft Drinks            High           131.758473\n",
              "                       Medium         128.269682\n",
              "                       Small          132.855043\n",
              "Starchy Foods          High           158.157074\n",
              "                       Medium         148.419504\n",
              "                       Small          150.270174\n",
              "Name: Item_MRP, dtype: float64"
            ]
          },
          "metadata": {},
          "execution_count": 18
        }
      ]
    },
    {
      "cell_type": "code",
      "source": [
        "sales_clean.groupby([\"Item_Type\",\"Outlet_Type\"])[\"Item_MRP\"].mean()"
      ],
      "metadata": {
        "colab": {
          "base_uri": "https://localhost:8080/"
        },
        "id": "1aAJLG-yEfxl",
        "outputId": "bad9260b-874b-4d98-dbb7-35c770cf4486"
      },
      "execution_count": 19,
      "outputs": [
        {
          "output_type": "execute_result",
          "data": {
            "text/plain": [
              "Item_Type      Outlet_Type      \n",
              "Baking Goods   Grocery Store        126.438068\n",
              "               Supermarket Type1    125.975262\n",
              "               Supermarket Type2    126.385315\n",
              "               Supermarket Type3    128.809243\n",
              "Breads         Grocery Store        146.452873\n",
              "                                       ...    \n",
              "Soft Drinks    Supermarket Type3    123.313587\n",
              "Starchy Foods  Grocery Store        148.153754\n",
              "               Supermarket Type1    147.793785\n",
              "               Supermarket Type2    151.786918\n",
              "               Supermarket Type3    143.078386\n",
              "Name: Item_MRP, Length: 64, dtype: float64"
            ]
          },
          "metadata": {},
          "execution_count": 19
        }
      ]
    },
    {
      "cell_type": "code",
      "source": [
        "sales_clean.groupby([\"Item_Fat_Content\"])[\"Item_MRP\"].mean()\n"
      ],
      "metadata": {
        "colab": {
          "base_uri": "https://localhost:8080/"
        },
        "id": "Td9-etqXFDUC",
        "outputId": "2cc4abab-6811-46f5-9dcd-e0a607168d80"
      },
      "execution_count": 20,
      "outputs": [
        {
          "output_type": "execute_result",
          "data": {
            "text/plain": [
              "Item_Fat_Content\n",
              "Low Fat    140.714098\n",
              "Regular    141.504259\n",
              "Name: Item_MRP, dtype: float64"
            ]
          },
          "metadata": {},
          "execution_count": 20
        }
      ]
    },
    {
      "cell_type": "code",
      "source": [
        "sales_clean.groupby([\"Item_Type\",\"Outlet_Location_Type\"])[\"Item_MRP\"].mean()"
      ],
      "metadata": {
        "colab": {
          "base_uri": "https://localhost:8080/"
        },
        "id": "ZE0QMRRrF2de",
        "outputId": "7471bfca-e66e-403f-ccc5-e0fc63e3aecd"
      },
      "execution_count": 21,
      "outputs": [
        {
          "output_type": "execute_result",
          "data": {
            "text/plain": [
              "Item_Type              Outlet_Location_Type\n",
              "Baking Goods           Tier 1                  124.389121\n",
              "                       Tier 2                  126.258343\n",
              "                       Tier 3                  127.945391\n",
              "Breads                 Tier 1                  146.045788\n",
              "                       Tier 2                  137.639740\n",
              "                       Tier 3                  140.323138\n",
              "Breakfast              Tier 1                  125.774400\n",
              "                       Tier 2                  151.478131\n",
              "                       Tier 3                  146.640916\n",
              "Canned                 Tier 1                  138.696381\n",
              "                       Tier 2                  143.355646\n",
              "                       Tier 3                  137.330057\n",
              "Dairy                  Tier 1                  145.929290\n",
              "                       Tier 2                  148.667932\n",
              "                       Tier 3                  150.365087\n",
              "Frozen Foods           Tier 1                  136.504640\n",
              "                       Tier 2                  139.873045\n",
              "                       Tier 3                  138.862819\n",
              "Fruits and Vegetables  Tier 1                  148.741817\n",
              "                       Tier 2                  143.529772\n",
              "                       Tier 3                  142.600221\n",
              "Hard Drinks            Tier 1                  126.267555\n",
              "                       Tier 2                  136.023644\n",
              "                       Tier 3                  145.445905\n",
              "Health and Hygiene     Tier 1                  131.879567\n",
              "                       Tier 2                  130.002942\n",
              "                       Tier 3                  130.768381\n",
              "Household              Tier 1                  150.534495\n",
              "                       Tier 2                  150.739074\n",
              "                       Tier 3                  147.593780\n",
              "Meat                   Tier 1                  138.377475\n",
              "                       Tier 2                  143.833074\n",
              "                       Tier 3                  138.137289\n",
              "Others                 Tier 1                  139.947136\n",
              "                       Tier 2                  136.423408\n",
              "                       Tier 3                  123.292374\n",
              "Seafood                Tier 1                  150.890758\n",
              "                       Tier 2                  134.199373\n",
              "                       Tier 3                  141.676496\n",
              "Snack Foods            Tier 1                  146.145581\n",
              "                       Tier 2                  144.465599\n",
              "                       Tier 3                  147.721702\n",
              "Soft Drinks            Tier 1                  130.170610\n",
              "                       Tier 2                  131.183404\n",
              "                       Tier 3                  132.725580\n",
              "Starchy Foods          Tier 1                  150.535350\n",
              "                       Tier 2                  143.834894\n",
              "                       Tier 3                  149.788227\n",
              "Name: Item_MRP, dtype: float64"
            ]
          },
          "metadata": {},
          "execution_count": 21
        }
      ]
    },
    {
      "cell_type": "markdown",
      "source": [
        "**Part 3 - Visualization**"
      ],
      "metadata": {
        "id": "Vp_N7WpfZrDc"
      }
    },
    {
      "cell_type": "code",
      "source": [
        "sales_clean.head()"
      ],
      "metadata": {
        "colab": {
          "base_uri": "https://localhost:8080/",
          "height": 357
        },
        "id": "76NwnBzTahIu",
        "outputId": "780bb9bb-7173-472a-fd0e-dff72d136bbc"
      },
      "execution_count": 22,
      "outputs": [
        {
          "output_type": "execute_result",
          "data": {
            "text/plain": [
              "     Item_Identifier  Item_Weight Item_Fat_Content  Item_Visibility  \\\n",
              "118            DRA12         11.6          Low Fat         0.041178   \n",
              "1197           DRA12         11.6          Low Fat         0.000000   \n",
              "1245           DRA12         11.6          Low Fat         0.040912   \n",
              "1693           DRA12         11.6          Low Fat         0.000000   \n",
              "7467           DRA12         11.6          Low Fat         0.041113   \n",
              "\n",
              "        Item_Type  Item_MRP Outlet_Identifier  Outlet_Establishment_Year  \\\n",
              "118   Soft Drinks  140.3154            OUT017                       2007   \n",
              "1197  Soft Drinks  141.6154            OUT045                       2002   \n",
              "1245  Soft Drinks  142.3154            OUT013                       1987   \n",
              "1693  Soft Drinks  141.9154            OUT035                       2004   \n",
              "7467  Soft Drinks  142.0154            OUT018                       2009   \n",
              "\n",
              "     Outlet_Size Outlet_Location_Type        Outlet_Type  Item_Outlet_Sales  \n",
              "118          NaN               Tier 2  Supermarket Type1          2552.6772  \n",
              "1197         NaN               Tier 2  Supermarket Type1          3829.0158  \n",
              "1245        High               Tier 3  Supermarket Type1          2552.6772  \n",
              "1693       Small               Tier 2  Supermarket Type1           992.7078  \n",
              "7467      Medium               Tier 3  Supermarket Type2           850.8924  "
            ],
            "text/html": [
              "\n",
              "  <div id=\"df-36008e04-d49e-4a1b-bb8f-e9d0a315e1c6\">\n",
              "    <div class=\"colab-df-container\">\n",
              "      <div>\n",
              "<style scoped>\n",
              "    .dataframe tbody tr th:only-of-type {\n",
              "        vertical-align: middle;\n",
              "    }\n",
              "\n",
              "    .dataframe tbody tr th {\n",
              "        vertical-align: top;\n",
              "    }\n",
              "\n",
              "    .dataframe thead th {\n",
              "        text-align: right;\n",
              "    }\n",
              "</style>\n",
              "<table border=\"1\" class=\"dataframe\">\n",
              "  <thead>\n",
              "    <tr style=\"text-align: right;\">\n",
              "      <th></th>\n",
              "      <th>Item_Identifier</th>\n",
              "      <th>Item_Weight</th>\n",
              "      <th>Item_Fat_Content</th>\n",
              "      <th>Item_Visibility</th>\n",
              "      <th>Item_Type</th>\n",
              "      <th>Item_MRP</th>\n",
              "      <th>Outlet_Identifier</th>\n",
              "      <th>Outlet_Establishment_Year</th>\n",
              "      <th>Outlet_Size</th>\n",
              "      <th>Outlet_Location_Type</th>\n",
              "      <th>Outlet_Type</th>\n",
              "      <th>Item_Outlet_Sales</th>\n",
              "    </tr>\n",
              "  </thead>\n",
              "  <tbody>\n",
              "    <tr>\n",
              "      <th>118</th>\n",
              "      <td>DRA12</td>\n",
              "      <td>11.6</td>\n",
              "      <td>Low Fat</td>\n",
              "      <td>0.041178</td>\n",
              "      <td>Soft Drinks</td>\n",
              "      <td>140.3154</td>\n",
              "      <td>OUT017</td>\n",
              "      <td>2007</td>\n",
              "      <td>NaN</td>\n",
              "      <td>Tier 2</td>\n",
              "      <td>Supermarket Type1</td>\n",
              "      <td>2552.6772</td>\n",
              "    </tr>\n",
              "    <tr>\n",
              "      <th>1197</th>\n",
              "      <td>DRA12</td>\n",
              "      <td>11.6</td>\n",
              "      <td>Low Fat</td>\n",
              "      <td>0.000000</td>\n",
              "      <td>Soft Drinks</td>\n",
              "      <td>141.6154</td>\n",
              "      <td>OUT045</td>\n",
              "      <td>2002</td>\n",
              "      <td>NaN</td>\n",
              "      <td>Tier 2</td>\n",
              "      <td>Supermarket Type1</td>\n",
              "      <td>3829.0158</td>\n",
              "    </tr>\n",
              "    <tr>\n",
              "      <th>1245</th>\n",
              "      <td>DRA12</td>\n",
              "      <td>11.6</td>\n",
              "      <td>Low Fat</td>\n",
              "      <td>0.040912</td>\n",
              "      <td>Soft Drinks</td>\n",
              "      <td>142.3154</td>\n",
              "      <td>OUT013</td>\n",
              "      <td>1987</td>\n",
              "      <td>High</td>\n",
              "      <td>Tier 3</td>\n",
              "      <td>Supermarket Type1</td>\n",
              "      <td>2552.6772</td>\n",
              "    </tr>\n",
              "    <tr>\n",
              "      <th>1693</th>\n",
              "      <td>DRA12</td>\n",
              "      <td>11.6</td>\n",
              "      <td>Low Fat</td>\n",
              "      <td>0.000000</td>\n",
              "      <td>Soft Drinks</td>\n",
              "      <td>141.9154</td>\n",
              "      <td>OUT035</td>\n",
              "      <td>2004</td>\n",
              "      <td>Small</td>\n",
              "      <td>Tier 2</td>\n",
              "      <td>Supermarket Type1</td>\n",
              "      <td>992.7078</td>\n",
              "    </tr>\n",
              "    <tr>\n",
              "      <th>7467</th>\n",
              "      <td>DRA12</td>\n",
              "      <td>11.6</td>\n",
              "      <td>Low Fat</td>\n",
              "      <td>0.041113</td>\n",
              "      <td>Soft Drinks</td>\n",
              "      <td>142.0154</td>\n",
              "      <td>OUT018</td>\n",
              "      <td>2009</td>\n",
              "      <td>Medium</td>\n",
              "      <td>Tier 3</td>\n",
              "      <td>Supermarket Type2</td>\n",
              "      <td>850.8924</td>\n",
              "    </tr>\n",
              "  </tbody>\n",
              "</table>\n",
              "</div>\n",
              "      <button class=\"colab-df-convert\" onclick=\"convertToInteractive('df-36008e04-d49e-4a1b-bb8f-e9d0a315e1c6')\"\n",
              "              title=\"Convert this dataframe to an interactive table.\"\n",
              "              style=\"display:none;\">\n",
              "        \n",
              "  <svg xmlns=\"http://www.w3.org/2000/svg\" height=\"24px\"viewBox=\"0 0 24 24\"\n",
              "       width=\"24px\">\n",
              "    <path d=\"M0 0h24v24H0V0z\" fill=\"none\"/>\n",
              "    <path d=\"M18.56 5.44l.94 2.06.94-2.06 2.06-.94-2.06-.94-.94-2.06-.94 2.06-2.06.94zm-11 1L8.5 8.5l.94-2.06 2.06-.94-2.06-.94L8.5 2.5l-.94 2.06-2.06.94zm10 10l.94 2.06.94-2.06 2.06-.94-2.06-.94-.94-2.06-.94 2.06-2.06.94z\"/><path d=\"M17.41 7.96l-1.37-1.37c-.4-.4-.92-.59-1.43-.59-.52 0-1.04.2-1.43.59L10.3 9.45l-7.72 7.72c-.78.78-.78 2.05 0 2.83L4 21.41c.39.39.9.59 1.41.59.51 0 1.02-.2 1.41-.59l7.78-7.78 2.81-2.81c.8-.78.8-2.07 0-2.86zM5.41 20L4 18.59l7.72-7.72 1.47 1.35L5.41 20z\"/>\n",
              "  </svg>\n",
              "      </button>\n",
              "      \n",
              "  <style>\n",
              "    .colab-df-container {\n",
              "      display:flex;\n",
              "      flex-wrap:wrap;\n",
              "      gap: 12px;\n",
              "    }\n",
              "\n",
              "    .colab-df-convert {\n",
              "      background-color: #E8F0FE;\n",
              "      border: none;\n",
              "      border-radius: 50%;\n",
              "      cursor: pointer;\n",
              "      display: none;\n",
              "      fill: #1967D2;\n",
              "      height: 32px;\n",
              "      padding: 0 0 0 0;\n",
              "      width: 32px;\n",
              "    }\n",
              "\n",
              "    .colab-df-convert:hover {\n",
              "      background-color: #E2EBFA;\n",
              "      box-shadow: 0px 1px 2px rgba(60, 64, 67, 0.3), 0px 1px 3px 1px rgba(60, 64, 67, 0.15);\n",
              "      fill: #174EA6;\n",
              "    }\n",
              "\n",
              "    [theme=dark] .colab-df-convert {\n",
              "      background-color: #3B4455;\n",
              "      fill: #D2E3FC;\n",
              "    }\n",
              "\n",
              "    [theme=dark] .colab-df-convert:hover {\n",
              "      background-color: #434B5C;\n",
              "      box-shadow: 0px 1px 3px 1px rgba(0, 0, 0, 0.15);\n",
              "      filter: drop-shadow(0px 1px 2px rgba(0, 0, 0, 0.3));\n",
              "      fill: #FFFFFF;\n",
              "    }\n",
              "  </style>\n",
              "\n",
              "      <script>\n",
              "        const buttonEl =\n",
              "          document.querySelector('#df-36008e04-d49e-4a1b-bb8f-e9d0a315e1c6 button.colab-df-convert');\n",
              "        buttonEl.style.display =\n",
              "          google.colab.kernel.accessAllowed ? 'block' : 'none';\n",
              "\n",
              "        async function convertToInteractive(key) {\n",
              "          const element = document.querySelector('#df-36008e04-d49e-4a1b-bb8f-e9d0a315e1c6');\n",
              "          const dataTable =\n",
              "            await google.colab.kernel.invokeFunction('convertToInteractive',\n",
              "                                                     [key], {});\n",
              "          if (!dataTable) return;\n",
              "\n",
              "          const docLinkHtml = 'Like what you see? Visit the ' +\n",
              "            '<a target=\"_blank\" href=https://colab.research.google.com/notebooks/data_table.ipynb>data table notebook</a>'\n",
              "            + ' to learn more about interactive tables.';\n",
              "          element.innerHTML = '';\n",
              "          dataTable['output_type'] = 'display_data';\n",
              "          await google.colab.output.renderOutput(dataTable, element);\n",
              "          const docLink = document.createElement('div');\n",
              "          docLink.innerHTML = docLinkHtml;\n",
              "          element.appendChild(docLink);\n",
              "        }\n",
              "      </script>\n",
              "    </div>\n",
              "  </div>\n",
              "  "
            ]
          },
          "metadata": {},
          "execution_count": 22
        }
      ]
    },
    {
      "cell_type": "code",
      "source": [
        "#Total Sales by Item Category\n",
        "\n",
        "fig=plt.figure(dpi=100) \n",
        "#sns.barplot(x = sales_clean.Item_Type, y = sales_clean.Item_Outlet_Sales);\n",
        "plt.bar(sales_clean.Item_Type, sales_clean.Item_Outlet_Sales)\n",
        "plt.xticks(rotation = 90)\n",
        "plt.ylabel(\"Total Sales\")\n",
        "plt.xlabel(\"Item Category\")\n",
        "fig.suptitle(\"Total Sales by Item Cagegory\", fontsize=14, fontweight=\"bold\")\n",
        "\n"
      ],
      "metadata": {
        "colab": {
          "base_uri": "https://localhost:8080/",
          "height": 575
        },
        "id": "TaD_KiI1av5A",
        "outputId": "8565e02b-8967-4524-994b-9d74f759a672"
      },
      "execution_count": 23,
      "outputs": [
        {
          "output_type": "execute_result",
          "data": {
            "text/plain": [
              "Text(0.5, 0.98, 'Total Sales by Item Cagegory')"
            ]
          },
          "metadata": {},
          "execution_count": 23
        },
        {
          "output_type": "display_data",
          "data": {
            "text/plain": [
              "<Figure size 600x400 with 1 Axes>"
            ],
            "image/png": "[encoded data removed]"
          },
          "metadata": {
            "needs_background": "light"
          }
        }
      ]
    },
    {
      "cell_type": "code",
      "source": [
        "#Relationship between Item Vistibility and Sales\n",
        "fig=plt.figure(dpi=100) \n",
        "\n",
        "sales_1 = sales_clean[sales_clean[\"Item_Type\"] == \"Baking Goods\"]\n",
        "sales_1 = sales_1[sales_1[\"Outlet_Identifier\"] == \"OUT046\"]\n",
        "x = sales_1[\"Item_Visibility\"]\n",
        "y = sales_1[\"Item_Outlet_Sales\"]\n",
        "\n",
        "plt.scatter(x,y)\n",
        "plt.ylabel(\"Total Sales\")\n",
        "plt.xlabel(\"Item Visibility\")\n",
        "fig.suptitle(\"Item Visbility vs Sales\", fontsize=14, fontweight=\"bold\")\n",
        "m,b = np.polyfit(x, y, 1)\n",
        "plt.plot(x, m*x+b)\n"
      ],
      "metadata": {
        "colab": {
          "base_uri": "https://localhost:8080/",
          "height": 439
        },
        "id": "lG-yz4iHGXRP",
        "outputId": "8b2f481e-7a53-4111-8560-999be55070b0"
      },
      "execution_count": 24,
      "outputs": [
        {
          "output_type": "execute_result",
          "data": {
            "text/plain": [
              "[<matplotlib.lines.Line2D at 0x7f5d0b1bd850>]"
            ]
          },
          "metadata": {},
          "execution_count": 24
        },
        {
          "output_type": "display_data",
          "data": {
            "text/plain": [
              "<Figure size 600x400 with 1 Axes>"
            ],
            "image/png": "[encoded data removed]"
          },
          "metadata": {
            "needs_background": "light"
          }
        }
      ]
    },
    {
      "cell_type": "code",
      "source": [
        "#Percent of Sales by Outlet\n",
        "sales_group = sales_clean.groupby([\"Outlet_Identifier\"])[[\"Item_Outlet_Sales\"]].sum()\n",
        "sales_group.info()\n",
        "fig=plt.figure(dpi=100) \n",
        "\n",
        "x = sales_group.index\n",
        "y = sales_group[\"Item_Outlet_Sales\"]\n",
        "explotar = [0, 0, 0.1, 0]\n",
        "\n",
        "ax1 = fig.add_subplot(1,1,1) \n",
        "ax1.pie(y, labels=x, autopct=\"%.2f%%\", shadow = False, startangle=-90)\n",
        "ax1.axis(\"equal\") #asegura proporcion igualitaria, vale decir, suma de porcentajes 100% (círculo)\n",
        "\n",
        "plt.show()\n"
      ],
      "metadata": {
        "colab": {
          "base_uri": "https://localhost:8080/",
          "height": 484
        },
        "id": "5KaiRdhQlnX1",
        "outputId": "f3f7c649-1c6e-4636-b605-106808627ed6"
      },
      "execution_count": 25,
      "outputs": [
        {
          "output_type": "stream",
          "name": "stdout",
          "text": [
            "<class 'pandas.core.frame.DataFrame'>\n",
            "Index: 10 entries, OUT010 to OUT049\n",
            "Data columns (total 1 columns):\n",
            " #   Column             Non-Null Count  Dtype  \n",
            "---  ------             --------------  -----  \n",
            " 0   Item_Outlet_Sales  10 non-null     float64\n",
            "dtypes: float64(1)\n",
            "memory usage: 160.0+ bytes\n"
          ]
        },
        {
          "output_type": "display_data",
          "data": {
            "text/plain": [
              "<Figure size 600x400 with 1 Axes>"
            ],
            "image/png": "[encoded data removed]"
          },
          "metadata": {}
        }
      ]
    },
    {
      "cell_type": "code",
      "source": [
        "sales_drop = sales_clean.drop(sales_clean[sales_clean.Item_Type ==  \"Hard Drinks\"].index)\n",
        "sales_drop = sales_drop.drop(sales_drop[sales_drop.Item_Type ==  \"Household\"].index)\n",
        "sales_drop = sales_drop.drop(sales_drop[sales_drop.Item_Type ==  \"Health and Hygiene\"].index)\n",
        "sales_drop = sales_drop.drop(sales_drop[sales_drop.Item_Type ==  \"Others\"].index)\n",
        "\n",
        "sales_drop.groupby([\"Item_Type\",\"Item_Fat_Content\"])[[\"Item_MRP\"]].mean()"
      ],
      "metadata": {
        "colab": {
          "base_uri": "https://localhost:8080/",
          "height": 833
        },
        "id": "wIX3MsKpsP3e",
        "outputId": "4fa5ceda-e5c5-40b1-c73e-a926616c2225"
      },
      "execution_count": 26,
      "outputs": [
        {
          "output_type": "execute_result",
          "data": {
            "text/plain": [
              "                                          Item_MRP\n",
              "Item_Type             Item_Fat_Content            \n",
              "Baking Goods          Low Fat           120.525869\n",
              "                      Regular           132.419203\n",
              "Breads                Low Fat           134.582184\n",
              "                      Regular           148.987514\n",
              "Breakfast             Low Fat           165.259673\n",
              "                      Regular           127.841304\n",
              "Canned                Low Fat           139.552518\n",
              "                      Regular           139.997787\n",
              "Dairy                 Low Fat           147.115989\n",
              "                      Regular           150.689305\n",
              "Frozen Foods          Low Fat           139.019490\n",
              "                      Regular           137.931307\n",
              "Fruits and Vegetables Low Fat           136.558069\n",
              "                      Regular           152.977571\n",
              "Meat                  Low Fat           130.998788\n",
              "                      Regular           145.804195\n",
              "Seafood               Low Fat           113.508557\n",
              "                      Regular           180.668644\n",
              "Snack Foods           Low Fat           156.498173\n",
              "                      Regular           132.159813\n",
              "Soft Drinks           Low Fat           133.338029\n",
              "                      Regular           121.771014\n",
              "Starchy Foods         Low Fat           157.970341\n",
              "                      Regular           135.249385"
            ],
            "text/html": [
              "\n",
              "  <div id=\"df-b46b6efb-41aa-4359-bd2d-ae570b5c58b9\">\n",
              "    <div class=\"colab-df-container\">\n",
              "      <div>\n",
              "<style scoped>\n",
              "    .dataframe tbody tr th:only-of-type {\n",
              "        vertical-align: middle;\n",
              "    }\n",
              "\n",
              "    .dataframe tbody tr th {\n",
              "        vertical-align: top;\n",
              "    }\n",
              "\n",
              "    .dataframe thead th {\n",
              "        text-align: right;\n",
              "    }\n",
              "</style>\n",
              "<table border=\"1\" class=\"dataframe\">\n",
              "  <thead>\n",
              "    <tr style=\"text-align: right;\">\n",
              "      <th></th>\n",
              "      <th></th>\n",
              "      <th>Item_MRP</th>\n",
              "    </tr>\n",
              "    <tr>\n",
              "      <th>Item_Type</th>\n",
              "      <th>Item_Fat_Content</th>\n",
              "      <th></th>\n",
              "    </tr>\n",
              "  </thead>\n",
              "  <tbody>\n",
              "    <tr>\n",
              "      <th rowspan=\"2\" valign=\"top\">Baking Goods</th>\n",
              "      <th>Low Fat</th>\n",
              "      <td>120.525869</td>\n",
              "    </tr>\n",
              "    <tr>\n",
              "      <th>Regular</th>\n",
              "      <td>132.419203</td>\n",
              "    </tr>\n",
              "    <tr>\n",
              "      <th rowspan=\"2\" valign=\"top\">Breads</th>\n",
              "      <th>Low Fat</th>\n",
              "      <td>134.582184</td>\n",
              "    </tr>\n",
              "    <tr>\n",
              "      <th>Regular</th>\n",
              "      <td>148.987514</td>\n",
              "    </tr>\n",
              "    <tr>\n",
              "      <th rowspan=\"2\" valign=\"top\">Breakfast</th>\n",
              "      <th>Low Fat</th>\n",
              "      <td>165.259673</td>\n",
              "    </tr>\n",
              "    <tr>\n",
              "      <th>Regular</th>\n",
              "      <td>127.841304</td>\n",
              "    </tr>\n",
              "    <tr>\n",
              "      <th rowspan=\"2\" valign=\"top\">Canned</th>\n",
              "      <th>Low Fat</th>\n",
              "      <td>139.552518</td>\n",
              "    </tr>\n",
              "    <tr>\n",
              "      <th>Regular</th>\n",
              "      <td>139.997787</td>\n",
              "    </tr>\n",
              "    <tr>\n",
              "      <th rowspan=\"2\" valign=\"top\">Dairy</th>\n",
              "      <th>Low Fat</th>\n",
              "      <td>147.115989</td>\n",
              "    </tr>\n",
              "    <tr>\n",
              "      <th>Regular</th>\n",
              "      <td>150.689305</td>\n",
              "    </tr>\n",
              "    <tr>\n",
              "      <th rowspan=\"2\" valign=\"top\">Frozen Foods</th>\n",
              "      <th>Low Fat</th>\n",
              "      <td>139.019490</td>\n",
              "    </tr>\n",
              "    <tr>\n",
              "      <th>Regular</th>\n",
              "      <td>137.931307</td>\n",
              "    </tr>\n",
              "    <tr>\n",
              "      <th rowspan=\"2\" valign=\"top\">Fruits and Vegetables</th>\n",
              "      <th>Low Fat</th>\n",
              "      <td>136.558069</td>\n",
              "    </tr>\n",
              "    <tr>\n",
              "      <th>Regular</th>\n",
              "      <td>152.977571</td>\n",
              "    </tr>\n",
              "    <tr>\n",
              "      <th rowspan=\"2\" valign=\"top\">Meat</th>\n",
              "      <th>Low Fat</th>\n",
              "      <td>130.998788</td>\n",
              "    </tr>\n",
              "    <tr>\n",
              "      <th>Regular</th>\n",
              "      <td>145.804195</td>\n",
              "    </tr>\n",
              "    <tr>\n",
              "      <th rowspan=\"2\" valign=\"top\">Seafood</th>\n",
              "      <th>Low Fat</th>\n",
              "      <td>113.508557</td>\n",
              "    </tr>\n",
              "    <tr>\n",
              "      <th>Regular</th>\n",
              "      <td>180.668644</td>\n",
              "    </tr>\n",
              "    <tr>\n",
              "      <th rowspan=\"2\" valign=\"top\">Snack Foods</th>\n",
              "      <th>Low Fat</th>\n",
              "      <td>156.498173</td>\n",
              "    </tr>\n",
              "    <tr>\n",
              "      <th>Regular</th>\n",
              "      <td>132.159813</td>\n",
              "    </tr>\n",
              "    <tr>\n",
              "      <th rowspan=\"2\" valign=\"top\">Soft Drinks</th>\n",
              "      <th>Low Fat</th>\n",
              "      <td>133.338029</td>\n",
              "    </tr>\n",
              "    <tr>\n",
              "      <th>Regular</th>\n",
              "      <td>121.771014</td>\n",
              "    </tr>\n",
              "    <tr>\n",
              "      <th rowspan=\"2\" valign=\"top\">Starchy Foods</th>\n",
              "      <th>Low Fat</th>\n",
              "      <td>157.970341</td>\n",
              "    </tr>\n",
              "    <tr>\n",
              "      <th>Regular</th>\n",
              "      <td>135.249385</td>\n",
              "    </tr>\n",
              "  </tbody>\n",
              "</table>\n",
              "</div>\n",
              "      <button class=\"colab-df-convert\" onclick=\"convertToInteractive('df-b46b6efb-41aa-4359-bd2d-ae570b5c58b9')\"\n",
              "              title=\"Convert this dataframe to an interactive table.\"\n",
              "              style=\"display:none;\">\n",
              "        \n",
              "  <svg xmlns=\"http://www.w3.org/2000/svg\" height=\"24px\"viewBox=\"0 0 24 24\"\n",
              "       width=\"24px\">\n",
              "    <path d=\"M0 0h24v24H0V0z\" fill=\"none\"/>\n",
              "    <path d=\"M18.56 5.44l.94 2.06.94-2.06 2.06-.94-2.06-.94-.94-2.06-.94 2.06-2.06.94zm-11 1L8.5 8.5l.94-2.06 2.06-.94-2.06-.94L8.5 2.5l-.94 2.06-2.06.94zm10 10l.94 2.06.94-2.06 2.06-.94-2.06-.94-.94-2.06-.94 2.06-2.06.94z\"/><path d=\"M17.41 7.96l-1.37-1.37c-.4-.4-.92-.59-1.43-.59-.52 0-1.04.2-1.43.59L10.3 9.45l-7.72 7.72c-.78.78-.78 2.05 0 2.83L4 21.41c.39.39.9.59 1.41.59.51 0 1.02-.2 1.41-.59l7.78-7.78 2.81-2.81c.8-.78.8-2.07 0-2.86zM5.41 20L4 18.59l7.72-7.72 1.47 1.35L5.41 20z\"/>\n",
              "  </svg>\n",
              "      </button>\n",
              "      \n",
              "  <style>\n",
              "    .colab-df-container {\n",
              "      display:flex;\n",
              "      flex-wrap:wrap;\n",
              "      gap: 12px;\n",
              "    }\n",
              "\n",
              "    .colab-df-convert {\n",
              "      background-color: #E8F0FE;\n",
              "      border: none;\n",
              "      border-radius: 50%;\n",
              "      cursor: pointer;\n",
              "      display: none;\n",
              "      fill: #1967D2;\n",
              "      height: 32px;\n",
              "      padding: 0 0 0 0;\n",
              "      width: 32px;\n",
              "    }\n",
              "\n",
              "    .colab-df-convert:hover {\n",
              "      background-color: #E2EBFA;\n",
              "      box-shadow: 0px 1px 2px rgba(60, 64, 67, 0.3), 0px 1px 3px 1px rgba(60, 64, 67, 0.15);\n",
              "      fill: #174EA6;\n",
              "    }\n",
              "\n",
              "    [theme=dark] .colab-df-convert {\n",
              "      background-color: #3B4455;\n",
              "      fill: #D2E3FC;\n",
              "    }\n",
              "\n",
              "    [theme=dark] .colab-df-convert:hover {\n",
              "      background-color: #434B5C;\n",
              "      box-shadow: 0px 1px 3px 1px rgba(0, 0, 0, 0.15);\n",
              "      filter: drop-shadow(0px 1px 2px rgba(0, 0, 0, 0.3));\n",
              "      fill: #FFFFFF;\n",
              "    }\n",
              "  </style>\n",
              "\n",
              "      <script>\n",
              "        const buttonEl =\n",
              "          document.querySelector('#df-b46b6efb-41aa-4359-bd2d-ae570b5c58b9 button.colab-df-convert');\n",
              "        buttonEl.style.display =\n",
              "          google.colab.kernel.accessAllowed ? 'block' : 'none';\n",
              "\n",
              "        async function convertToInteractive(key) {\n",
              "          const element = document.querySelector('#df-b46b6efb-41aa-4359-bd2d-ae570b5c58b9');\n",
              "          const dataTable =\n",
              "            await google.colab.kernel.invokeFunction('convertToInteractive',\n",
              "                                                     [key], {});\n",
              "          if (!dataTable) return;\n",
              "\n",
              "          const docLinkHtml = 'Like what you see? Visit the ' +\n",
              "            '<a target=\"_blank\" href=https://colab.research.google.com/notebooks/data_table.ipynb>data table notebook</a>'\n",
              "            + ' to learn more about interactive tables.';\n",
              "          element.innerHTML = '';\n",
              "          dataTable['output_type'] = 'display_data';\n",
              "          await google.colab.output.renderOutput(dataTable, element);\n",
              "          const docLink = document.createElement('div');\n",
              "          docLink.innerHTML = docLinkHtml;\n",
              "          element.appendChild(docLink);\n",
              "        }\n",
              "      </script>\n",
              "    </div>\n",
              "  </div>\n",
              "  "
            ]
          },
          "metadata": {},
          "execution_count": 26
        }
      ]
    },
    {
      "cell_type": "code",
      "source": [
        "sales_reg = sales_drop[sales_drop[\"Item_Fat_Content\"] == \"Regular\"]\n",
        "sales_reg = sales_reg.groupby([\"Item_Type\"])[[\"Item_MRP\"]].mean()\n",
        "\n",
        "sales_low = sales_drop[sales_drop[\"Item_Fat_Content\"] == \"Low Fat\"]\n",
        "sales_low = sales_low.groupby([\"Item_Type\"])[[\"Item_MRP\"]].mean()\n",
        "\n",
        "labels = [\"Baking Goods\",\"Bread\",\"Breakfast\",\"Canned\",\"Dairy\",\"Frozen Foods\",\"Fruits and Vegetables\",\"Meat\",\"Seafood\",\"Snacks\",\"Soft Drinks\",\"Starchy Foods\"]\n"
      ],
      "metadata": {
        "id": "xeg0za0lnI1O"
      },
      "execution_count": 27,
      "outputs": []
    },
    {
      "cell_type": "code",
      "source": [
        "fig=plt.figure(dpi=100) \n",
        "x = np.arange(len(labels))\n",
        "width = 0.35\n",
        "plt.bar(x - width/2, sales_reg[\"Item_MRP\"], width, label=\"Low Fat\")\n",
        "plt.bar(x + width/2, sales_low[\"Item_MRP\"], width, label=\"Regular\")\n",
        "plt.xticks(x, labels)\n",
        "plt.xticks(rotation = 90)\n",
        "\n",
        "plt.ylabel(\"Average Price\")\n",
        "plt.xlabel(\"Item Category\")\n",
        "plt.legend(loc=\"lower right\")\n",
        "fig.suptitle(\"Average Price by Category and Fat Content\", fontsize=14, fontweight=\"bold\")"
      ],
      "metadata": {
        "colab": {
          "base_uri": "https://localhost:8080/",
          "height": 575
        },
        "id": "WE6MQX3YqO2U",
        "outputId": "d68936a6-d3a7-4c82-e238-4c6d848854ad"
      },
      "execution_count": 28,
      "outputs": [
        {
          "output_type": "execute_result",
          "data": {
            "text/plain": [
              "Text(0.5, 0.98, 'Average Price by Category and Fat Content')"
            ]
          },
          "metadata": {},
          "execution_count": 28
        },
        {
          "output_type": "display_data",
          "data": {
            "text/plain": [
              "<Figure size 600x400 with 1 Axes>"
            ],
            "image/png": "[encoded data removed]"
          },
          "metadata": {
            "needs_background": "light"
          }
        }
      ]
    },
    {
      "cell_type": "markdown",
      "source": [
        "**PART 4 -- Statistical Graphs**"
      ],
      "metadata": {
        "id": "2HabAjXIv35g"
      }
    },
    {
      "cell_type": "code",
      "source": [
        "sales_group1 = sales_clean.groupby([\"Item_Identifier\"])[[\"Item_MRP\"]].mean()\n",
        "sales_group2 = sales_clean.groupby([\"Item_Identifier\"])[[\"Item_Outlet_Sales\"]].sum()\n"
      ],
      "metadata": {
        "id": "TwPljuCWzZIo"
      },
      "execution_count": 29,
      "outputs": []
    },
    {
      "cell_type": "code",
      "source": [
        "fig1=plt.figure(dpi=150) \n",
        "\n",
        "\n",
        "x1 = sales_group1[\"Item_MRP\"]\n",
        "ax1 = fig1.add_subplot(1,2,1)\n",
        "ax1.hist(x1, bins = 20, edgecolor='black')\n",
        "ax1.set_xlabel(\"Item Average MRP\")\n",
        "ax1.set_title('Histogram Item MRP',fontsize=10, fontweight=\"bold\")\n",
        "\n",
        "x2 = sales_group2[\"Item_Outlet_Sales\"]\n",
        "ax2 = fig1.add_subplot(1,2,2)\n",
        "ax2.hist(x2, bins = 20, edgecolor='black')\n",
        "ax2.set_xlabel(\"Item Total Sales\")\n",
        "ax2.set_title('Histogram Item Outlet Sales',fontsize=10, fontweight=\"bold\")\n",
        "\n",
        "plt.show()"
      ],
      "metadata": {
        "colab": {
          "base_uri": "https://localhost:8080/",
          "height": 591
        },
        "id": "YSBr1mcHv7ym",
        "outputId": "09d075c3-f574-4102-d07f-6b25f60caf51"
      },
      "execution_count": 30,
      "outputs": [
        {
          "output_type": "display_data",
          "data": {
            "text/plain": [
              "<Figure size 900x600 with 2 Axes>"
            ],
            "image/png": "[encoded data removed]"
          },
          "metadata": {
            "needs_background": "light"
          }
        }
      ]
    },
    {
      "cell_type": "code",
      "source": [
        "#malignant = df.loc[df['diagnosis']=='M','area_mean'].values\n",
        "#benign = df.loc[df['diagnosis']=='B','area_mean'].values\n",
        "#plt.boxplot([malignant,benign], labels=['M', 'B']);\n",
        "\n",
        "fig1=plt.figure(dpi=150) \n",
        "baking = sales_clean.loc[sales_clean[\"Item_Type\"] == \"Baking Goods\", \"Item_MRP\"].values \n",
        "breads = sales_clean.loc[sales_clean[\"Item_Type\"] == \"Breads\", \"Item_MRP\"].values \n",
        "breakfast = sales_clean.loc[sales_clean[\"Item_Type\"] == \"Breakfast\", \"Item_MRP\"].values \n",
        "canned = sales_clean.loc[sales_clean[\"Item_Type\"] == \"Canned\", \"Item_MRP\"].values \n",
        "dairy = sales_clean.loc[sales_clean[\"Item_Type\"] == \"Dairy\", \"Item_MRP\"].values \n",
        "frozen = sales_clean.loc[sales_clean[\"Item_Type\"] == \"Frozen Foods\", \"Item_MRP\"].values \n",
        "fruits_vegetable = sales_clean.loc[sales_clean[\"Item_Type\"] == \"Fruits and Vegetables\", \"Item_MRP\"].values \n",
        "meat = sales_clean.loc[sales_clean[\"Item_Type\"] == \"Meat\", \"Item_MRP\"].values \n",
        "seafood = sales_clean.loc[sales_clean[\"Item_Type\"] == \"Seafood\", \"Item_MRP\"].values \n",
        "snack_foods = sales_clean.loc[sales_clean[\"Item_Type\"] == \"Snack Foods\", \"Item_MRP\"].values \n",
        "soft_drinks = sales_clean.loc[sales_clean[\"Item_Type\"] == \"Soft Drinks\", \"Item_MRP\"].values \n",
        "starchy_foods = sales_clean.loc[sales_clean[\"Item_Type\"] == \"Starchy Foods\", \"Item_MRP\"].values \n",
        "\n",
        "plt.boxplot([baking, breads, breakfast, canned, dairy, frozen, fruits_vegetable, meat, seafood, snack_foods, soft_drinks, starchy_foods], labels = [\"Baking\",\"Breads\",\"Breakfast\",\"Canned\",\"Dairy\",\"Frozen\",\"Fruits and Vegetables\",\"Meat\",\"Seafood\",\"Snack Foods\",\"Soft Drinks\",\"Starchy Foods\"])\n",
        "plt.xticks(rotation = 90)\n",
        "\n",
        "plt.title(\"Average MRP Price by Category\", fontsize=14, fontweight=\"bold\")\n",
        "plt.xlabel('Category', fontsize = 10);\n",
        "plt.ylabel('MRP Price', fontsize = 10);\n",
        "\n",
        "plt.show()\n"
      ],
      "metadata": {
        "colab": {
          "base_uri": "https://localhost:8080/",
          "height": 857
        },
        "id": "ZrrS3tmp0SxV",
        "outputId": "2d24884e-39da-4c9c-94c5-4caa2ff81b89"
      },
      "execution_count": 40,
      "outputs": [
        {
          "output_type": "stream",
          "name": "stderr",
          "text": [
            "/usr/local/lib/python3.7/dist-packages/matplotlib/cbook/__init__.py:1376: VisibleDeprecationWarning: Creating an ndarray from ragged nested sequences (which is a list-or-tuple of lists-or-tuples-or ndarrays with different lengths or shapes) is deprecated. If you meant to do this, you must specify 'dtype=object' when creating the ndarray.\n",
            "  X = np.atleast_1d(X.T if isinstance(X, np.ndarray) else np.asarray(X))\n"
          ]
        },
        {
          "output_type": "display_data",
          "data": {
            "text/plain": [
              "<Figure size 900x600 with 1 Axes>"
            ],
            "image/png": "[encoded data removed]"
          },
          "metadata": {
            "needs_background": "light"
          }
        }
      ]
    },
    {
      "cell_type": "code",
      "source": [
        "\n",
        "fig1=plt.figure(dpi=120) \n",
        "sm1 = sales_clean.loc[sales_clean[\"Outlet_Type\"] == \"Supermarket Type1\", \"Item_MRP\"].values \n",
        "sm2 = sales_clean.loc[sales_clean[\"Outlet_Type\"] == \"Supermarket Type2\", \"Item_MRP\"].values \n",
        "sm3 = sales_clean.loc[sales_clean[\"Outlet_Type\"] == \"Supermarket Type3\", \"Item_MRP\"].values \n",
        "gr = sales_clean.loc[sales_clean[\"Outlet_Type\"] == \"Grocery Store\", \"Item_MRP\"].values \n",
        "\n",
        "plt.boxplot([sm1, sm2, sm3, gr], labels = [\"Smkt Type 1\", \"Smkt Type 2\",\"Smkt Type 3\",\"Grocery\"])\n",
        "plt.xticks(rotation = 90)\n",
        "\n",
        "\n",
        "plt.title(\"Item MRP by Outlet Type\", fontsize=14, fontweight=\"bold\")\n",
        "plt.xlabel('Outlet Type', fontsize = 10);\n",
        "plt.ylabel('MRP Price', fontsize = 10);\n",
        "\n",
        "\n",
        "plt.show()"
      ],
      "metadata": {
        "colab": {
          "base_uri": "https://localhost:8080/",
          "height": 625
        },
        "id": "30z1StRu36Pm",
        "outputId": "d7e33cea-6668-4a63-ee62-a74a03395f23"
      },
      "execution_count": 44,
      "outputs": [
        {
          "output_type": "stream",
          "name": "stderr",
          "text": [
            "/usr/local/lib/python3.7/dist-packages/matplotlib/cbook/__init__.py:1376: VisibleDeprecationWarning: Creating an ndarray from ragged nested sequences (which is a list-or-tuple of lists-or-tuples-or ndarrays with different lengths or shapes) is deprecated. If you meant to do this, you must specify 'dtype=object' when creating the ndarray.\n",
            "  X = np.atleast_1d(X.T if isinstance(X, np.ndarray) else np.asarray(X))\n"
          ]
        },
        {
          "output_type": "display_data",
          "data": {
            "text/plain": [
              "<Figure size 720x480 with 1 Axes>"
            ],
            "image/png": "[encoded data removed]"
          },
          "metadata": {
            "needs_background": "light"
          }
        }
      ]
    },
    {
      "cell_type": "code",
      "source": [
        "fig1=plt.figure(dpi=120) \n",
        "OUT019 = sales_clean.loc[sales_clean[\"Outlet_Identifier\"] == \"OUT019\", \"Item_Outlet_Sales\"].values \n",
        "OUT049 = sales_clean.loc[sales_clean[\"Outlet_Identifier\"] == \"OUT049\", \"Item_Outlet_Sales\"].values \n",
        "OUT046 = sales_clean.loc[sales_clean[\"Outlet_Identifier\"] == \"OUT046\", \"Item_Outlet_Sales\"].values \n",
        "OUT017 = sales_clean.loc[sales_clean[\"Outlet_Identifier\"] == \"OUT017\", \"Item_Outlet_Sales\"].values \n",
        "OUT045 = sales_clean.loc[sales_clean[\"Outlet_Identifier\"] == \"OUT045\", \"Item_Outlet_Sales\"].values \n",
        "OUT035 = sales_clean.loc[sales_clean[\"Outlet_Identifier\"] == \"OUT035\", \"Item_Outlet_Sales\"].values \n",
        "OUT013 = sales_clean.loc[sales_clean[\"Outlet_Identifier\"] == \"OUT013\", \"Item_Outlet_Sales\"].values \n",
        "OUT018 = sales_clean.loc[sales_clean[\"Outlet_Identifier\"] == \"OUT018\", \"Item_Outlet_Sales\"].values \n",
        "OUT027 = sales_clean.loc[sales_clean[\"Outlet_Identifier\"] == \"OUT027\", \"Item_Outlet_Sales\"].values \n",
        "\n",
        "plt.hist(OUT019, bins = 20, label = \"OUT019\", alpha = 0.5)\n",
        "plt.hist(OUT049, bins = 20, label = \"OUT049\", alpha = 0.5)\n",
        "plt.hist(OUT046, bins = 20, label = \"OUT046\", alpha = 0.5)\n",
        "plt.hist(OUT017, bins = 20, label = \"OUT017\", alpha = 0.5)\n",
        "plt.hist(OUT045, bins = 20, label = \"OUT045\", alpha = 0.5)\n",
        "plt.hist(OUT035, bins = 20, label = \"OUT035\", alpha = 0.5)\n",
        "plt.hist(OUT013, bins = 20, label = \"OUT013\", alpha = 0.5)\n",
        "plt.hist(OUT018, bins = 20, label = \"OUT018\", alpha = 0.5)\n",
        "plt.hist(OUT027, bins = 20, label = \"OUT027\", alpha = 0.5)\n",
        "\n",
        "\n",
        "plt.title(\"Item Outlet Sales by Outlet\", fontsize=14, fontweight=\"bold\")\n",
        "plt.xlabel('Item Outlet Sales', fontsize = 10);\n",
        "plt.ylabel('Frequency', fontsize = 10);\n",
        "\n",
        "plt.legend(loc=\"upper right\")\n",
        "\n",
        "plt.xticks(rotation = 90)\n",
        "plt.show"
      ],
      "metadata": {
        "colab": {
          "base_uri": "https://localhost:8080/",
          "height": 537
        },
        "id": "5z5i_E6l46Wh",
        "outputId": "e418aca9-9c17-4191-8425-a84efcfb8c69"
      },
      "execution_count": 51,
      "outputs": [
        {
          "output_type": "execute_result",
          "data": {
            "text/plain": [
              "<function matplotlib.pyplot.show>"
            ]
          },
          "metadata": {},
          "execution_count": 51
        },
        {
          "output_type": "display_data",
          "data": {
            "text/plain": [
              "<Figure size 720x480 with 1 Axes>"
            ],
            "image/png": "[encoded data removed]"
          },
          "metadata": {
            "needs_background": "light"
          }
        }
      ]
    },
    {
      "cell_type": "code",
      "source": [
        "correlation= sales_clean.corr()\n",
        "mask = np.triu(np.ones_like(correlation, dtype=bool))\n",
        "f, ax = plt.subplots(figsize=(11, 9))\n",
        "cmap = sns.diverging_palette(240, 10, n=9)\n",
        "sns.heatmap(correlation, annot=True, mask=mask, cmap=cmap, vmax=.3, center=0,\n",
        "            square=True, linewidths=.5, cbar_kws={\"shrink\": .5}).set(title='Correlations between Continuous Variables')\n",
        "\n"
      ],
      "metadata": {
        "colab": {
          "base_uri": "https://localhost:8080/",
          "height": 693
        },
        "id": "d-8bOZw5ejXR",
        "outputId": "549b8d7d-c590-4e73-c35f-146f18c63f5c"
      },
      "execution_count": 58,
      "outputs": [
        {
          "output_type": "execute_result",
          "data": {
            "text/plain": [
              "[Text(0.5, 1.0, 'Correlations between Continuous Variables')]"
            ]
          },
          "metadata": {},
          "execution_count": 58
        },
        {
          "output_type": "display_data",
          "data": {
            "text/plain": [
              "<Figure size 792x648 with 2 Axes>"
            ],
            "image/png": "[encoded data removed]"
          },
          "metadata": {
            "needs_background": "light"
          }
        }
      ]
    }
  ]
}